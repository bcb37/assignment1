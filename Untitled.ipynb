{
 "cells": [
  {
   "cell_type": "code",
   "execution_count": 1,
   "metadata": {
    "collapsed": true
   },
   "outputs": [],
   "source": [
    "import numpy as np"
   ]
  },
  {
   "cell_type": "code",
   "execution_count": 89,
   "metadata": {
    "collapsed": false
   },
   "outputs": [
    {
     "name": "stdout",
     "output_type": "stream",
     "text": [
      "[65, 66, 67, 68, 69, 70, 71]\n"
     ]
    }
   ],
   "source": [
    "keys_order = list(range(ord('A'),ord('H')))\n",
    "keys = np.array(['A','D','G','Bb', 'A#', 'G#', 'Ab'])\n",
    "print(keys_order)"
   ]
  },
  {
   "cell_type": "code",
   "execution_count": 54,
   "metadata": {
    "collapsed": false
   },
   "outputs": [
    {
     "name": "stdout",
     "output_type": "stream",
     "text": [
      "s\n",
      "e\n"
     ]
    }
   ],
   "source": [
    "np.vectorize(freqs.get)(keys)\n",
    "foo = 'se'\n",
    "print(foo[0])\n",
    "if len(foo) > 1:\n",
    "    print(foo[1])\n",
    "   "
   ]
  },
  {
   "cell_type": "code",
   "execution_count": 91,
   "metadata": {
    "collapsed": true
   },
   "outputs": [],
   "source": [
    "def get_freq_from_key(key):\n",
    "    acc = ''\n",
    "    if len(key) > 1:\n",
    "        acc = key[1]\n",
    "    exp = (ord(key[0]) - 65) * 2\n",
    "    if exp > 2:\n",
    "        exp -= 1\n",
    "    if exp > 7:\n",
    "        exp -= 1\n",
    "    if acc == 'b':\n",
    "        exp -= 1\n",
    "    if acc == '#':\n",
    "        exp += 1\n",
    "    if exp < 0:\n",
    "        exp += 12\n",
    "    return 440 * ((2**(1/12))**exp)\n",
    "    "
   ]
  },
  {
   "cell_type": "code",
   "execution_count": 92,
   "metadata": {
    "collapsed": false
   },
   "outputs": [],
   "source": [
    "get_freqs = np.vectorize(get_freq_from_key)"
   ]
  },
  {
   "cell_type": "code",
   "execution_count": 94,
   "metadata": {
    "collapsed": false
   },
   "outputs": [
    {
     "data": {
      "text/plain": [
       "629.26667445061071"
      ]
     },
     "execution_count": 94,
     "metadata": {},
     "output_type": "execute_result"
    }
   ],
   "source": [
    "np.mean(get_freqs(keys))"
   ]
  },
  {
   "cell_type": "code",
   "execution_count": 95,
   "metadata": {
    "collapsed": false
   },
   "outputs": [
    {
     "data": {
      "text/plain": [
       "598.02377376391189"
      ]
     },
     "execution_count": 95,
     "metadata": {},
     "output_type": "execute_result"
    }
   ],
   "source": [
    "np.mean(get_freqs(np.vectorize(chr)(keys_order)))"
   ]
  },
  {
   "cell_type": "code",
   "execution_count": 97,
   "metadata": {
    "collapsed": false
   },
   "outputs": [
    {
     "data": {
      "text/plain": [
       "587.3295358348153"
      ]
     },
     "execution_count": 97,
     "metadata": {},
     "output_type": "execute_result"
    }
   ],
   "source": [
    "get_freq_from_key('D')"
   ]
  },
  {
   "cell_type": "code",
   "execution_count": 98,
   "metadata": {
    "collapsed": true
   },
   "outputs": [],
   "source": [
    "bj80skeys = np.array(['G',\n",
    "'Bb',\n",
    "'D',\n",
    "'Bb',\n",
    "'Bb',\n",
    "'D',\n",
    "'F',\n",
    "'Bb',\n",
    "'C',\n",
    "'C',\n",
    "'F'])"
   ]
  },
  {
   "cell_type": "code",
   "execution_count": 99,
   "metadata": {
    "collapsed": false
   },
   "outputs": [
    {
     "data": {
      "text/plain": [
       "array(['G', 'Bb', 'D', 'Bb', 'Bb', 'D', 'F', 'Bb', 'C', 'C', 'F'],\n",
       "      dtype='<U2')"
      ]
     },
     "execution_count": 99,
     "metadata": {},
     "output_type": "execute_result"
    }
   ],
   "source": [
    "bj80skeys"
   ]
  },
  {
   "cell_type": "code",
   "execution_count": 101,
   "metadata": {
    "collapsed": false
   },
   "outputs": [
    {
     "data": {
      "text/plain": [
       "569.70183423999106"
      ]
     },
     "execution_count": 101,
     "metadata": {},
     "output_type": "execute_result"
    }
   ],
   "source": [
    "np.mean(get_freqs(bj80skeys))"
   ]
  },
  {
   "cell_type": "code",
   "execution_count": null,
   "metadata": {
    "collapsed": true
   },
   "outputs": [],
   "source": []
  }
 ],
 "metadata": {
  "kernelspec": {
   "display_name": "Python (dotenv)",
   "language": "python",
   "name": ".env"
  },
  "language_info": {
   "codemirror_mode": {
    "name": "ipython",
    "version": 3
   },
   "file_extension": ".py",
   "mimetype": "text/x-python",
   "name": "python",
   "nbconvert_exporter": "python",
   "pygments_lexer": "ipython3",
   "version": "3.6.1"
  }
 },
 "nbformat": 4,
 "nbformat_minor": 0
}
